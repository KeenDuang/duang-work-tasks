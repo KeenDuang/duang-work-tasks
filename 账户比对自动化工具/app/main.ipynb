{
 "cells": [
  {
   "cell_type": "code",
   "execution_count": 1,
   "metadata": {},
   "outputs": [],
   "source": [
    "import numpy as np\n",
    "import pandas as pd"
   ]
  },
  {
   "cell_type": "code",
   "execution_count": 50,
   "metadata": {},
   "outputs": [],
   "source": [
    "hexin = pd.read_excel('../data/核心.xls')\n",
    "renhang = pd.read_excel('../data/人行.xls')\n",
    "yanyin = pd.read_excel('../data/验印.xls')"
   ]
  },
  {
   "cell_type": "markdown",
   "metadata": {},
   "source": [
    "### 数据筛选"
   ]
  },
  {
   "cell_type": "markdown",
   "metadata": {},
   "source": [
    "#### 条件筛选"
   ]
  },
  {
   "cell_type": "code",
   "execution_count": 4,
   "metadata": {},
   "outputs": [],
   "source": [
    "# 核心数据筛选\n",
    "hexin = hexin[(hexin['账户属性'] == '4 - 基本户') |\n",
    "              (hexin['账户属性'] == '3 - 一般户') |\n",
    "              (hexin['账户属性'] == '6 - 专用户（核准类）') |\n",
    "              (hexin['账户属性'] == '23 - 专用户（备案类）') |\n",
    "              (hexin['账户属性'] == '7 - 验资户')]"
   ]
  },
  {
   "cell_type": "code",
   "execution_count": 5,
   "metadata": {},
   "outputs": [],
   "source": [
    "hexin.rename(columns={'账号/卡号':'账号'},inplace=True)"
   ]
  },
  {
   "cell_type": "code",
   "execution_count": 6,
   "metadata": {},
   "outputs": [],
   "source": [
    "# 验印数据数据筛选\n",
    "yanyin = yanyin[(yanyin['账户属性'] == '基本户') |\n",
    "                (yanyin['账户属性'] == '一般户') |\n",
    "                (yanyin['账户属性'] == '专用户（核准类）') |\n",
    "                (yanyin['账户属性'] == '专用户（备案类）') |\n",
    "                (yanyin['账户属性'] == '验资户')]\n",
    "\n",
    "yanyin = yanyin[yanyin['销户标志'] == '正常']\n",
    "\n",
    "yanyin = yanyin[yanyin['主从账户标志'] != '从账户']"
   ]
  },
  {
   "cell_type": "markdown",
   "metadata": {},
   "source": [
    "#### 重复值处理"
   ]
  },
  {
   "cell_type": "code",
   "execution_count": 37,
   "metadata": {},
   "outputs": [
    {
     "name": "stdout",
     "output_type": "stream",
     "text": [
      "['机构号：419901\\n', '机构名称：中原银行郑州商务外环路支行']\n"
     ]
    }
   ],
   "source": [
    "with open(\"../data/机构参数.txt\", \"r\",encoding='utf-8') as f:  # 打开文件\n",
    "    data = f.readlines()  # 读取文件\n",
    "    print(data)"
   ]
  },
  {
   "cell_type": "code",
   "execution_count": 38,
   "metadata": {},
   "outputs": [],
   "source": [
    "para=[]\n",
    "with open(\"../data/机构参数.txt\", \"r\",encoding='utf-8') as f:\n",
    "    for line in f.readlines():\n",
    "        line = line.strip('\\n')\n",
    "        para.append(line)\n",
    "    "
   ]
  },
  {
   "cell_type": "code",
   "execution_count": 55,
   "metadata": {},
   "outputs": [
    {
     "data": {
      "text/plain": [
       "0       NaN\n",
       "1       NaN\n",
       "2       NaN\n",
       "3       NaN\n",
       "4       NaN\n",
       "       ... \n",
       "5246    NaN\n",
       "5247    NaN\n",
       "5248    NaN\n",
       "5249    NaN\n",
       "5250    NaN\n",
       "Name: 销户日期, Length: 5251, dtype: object"
      ]
     },
     "execution_count": 55,
     "metadata": {},
     "output_type": "execute_result"
    }
   ],
   "source": [
    "yanyin['销户日期']"
   ]
  },
  {
   "cell_type": "code",
   "execution_count": 52,
   "metadata": {},
   "outputs": [],
   "source": [
    "renhang['销户日期'].fillna('2099-12-31', inplace=True)\n",
    "renhang.sort_values(by=['开户日期', '销户日期'], ascending=False, inplace=True)"
   ]
  },
  {
   "cell_type": "code",
   "execution_count": 53,
   "metadata": {},
   "outputs": [
    {
     "data": {
      "text/plain": [
       "4905    2099-12-31\n",
       "4906    2099-12-31\n",
       "4901    2099-12-31\n",
       "4902    2099-12-31\n",
       "4903    2099-12-31\n",
       "           ...    \n",
       "8       2018-06-21\n",
       "0       2016-07-21\n",
       "10      2015-05-21\n",
       "9       2015-03-27\n",
       "11      2099-12-31\n",
       "Name: 销户日期, Length: 4907, dtype: object"
      ]
     },
     "execution_count": 53,
     "metadata": {},
     "output_type": "execute_result"
    }
   ],
   "source": [
    "renhang['销户日期']"
   ]
  },
  {
   "cell_type": "code",
   "execution_count": 45,
   "metadata": {},
   "outputs": [
    {
     "data": {
      "text/html": [
       "<div>\n",
       "<style scoped>\n",
       "    .dataframe tbody tr th:only-of-type {\n",
       "        vertical-align: middle;\n",
       "    }\n",
       "\n",
       "    .dataframe tbody tr th {\n",
       "        vertical-align: top;\n",
       "    }\n",
       "\n",
       "    .dataframe thead th {\n",
       "        text-align: right;\n",
       "    }\n",
       "</style>\n",
       "<table border=\"1\" class=\"dataframe\">\n",
       "  <thead>\n",
       "    <tr style=\"text-align: right;\">\n",
       "      <th></th>\n",
       "      <th>开户日期</th>\n",
       "      <th>销户日期</th>\n",
       "    </tr>\n",
       "  </thead>\n",
       "  <tbody>\n",
       "    <tr>\n",
       "      <th>4905</th>\n",
       "      <td>2020-09-30</td>\n",
       "      <td>2056</td>\n",
       "    </tr>\n",
       "    <tr>\n",
       "      <th>4906</th>\n",
       "      <td>2020-09-30</td>\n",
       "      <td>2056</td>\n",
       "    </tr>\n",
       "    <tr>\n",
       "      <th>4901</th>\n",
       "      <td>2020-09-29</td>\n",
       "      <td>2056</td>\n",
       "    </tr>\n",
       "    <tr>\n",
       "      <th>4902</th>\n",
       "      <td>2020-09-29</td>\n",
       "      <td>2056</td>\n",
       "    </tr>\n",
       "    <tr>\n",
       "      <th>4903</th>\n",
       "      <td>2020-09-29</td>\n",
       "      <td>2056</td>\n",
       "    </tr>\n",
       "    <tr>\n",
       "      <th>...</th>\n",
       "      <td>...</td>\n",
       "      <td>...</td>\n",
       "    </tr>\n",
       "    <tr>\n",
       "      <th>8</th>\n",
       "      <td>2014-12-26</td>\n",
       "      <td>2018-06-21</td>\n",
       "    </tr>\n",
       "    <tr>\n",
       "      <th>0</th>\n",
       "      <td>2014-12-26</td>\n",
       "      <td>2016-07-21</td>\n",
       "    </tr>\n",
       "    <tr>\n",
       "      <th>10</th>\n",
       "      <td>2014-12-26</td>\n",
       "      <td>2015-05-21</td>\n",
       "    </tr>\n",
       "    <tr>\n",
       "      <th>9</th>\n",
       "      <td>2014-12-26</td>\n",
       "      <td>2015-03-27</td>\n",
       "    </tr>\n",
       "    <tr>\n",
       "      <th>11</th>\n",
       "      <td>2014-12-23</td>\n",
       "      <td>2056</td>\n",
       "    </tr>\n",
       "  </tbody>\n",
       "</table>\n",
       "<p>4907 rows × 2 columns</p>\n",
       "</div>"
      ],
      "text/plain": [
       "            开户日期        销户日期\n",
       "4905  2020-09-30        2056\n",
       "4906  2020-09-30        2056\n",
       "4901  2020-09-29        2056\n",
       "4902  2020-09-29        2056\n",
       "4903  2020-09-29        2056\n",
       "...          ...         ...\n",
       "8     2014-12-26  2018-06-21\n",
       "0     2014-12-26  2016-07-21\n",
       "10    2014-12-26  2015-05-21\n",
       "9     2014-12-26  2015-03-27\n",
       "11    2014-12-23        2056\n",
       "\n",
       "[4907 rows x 2 columns]"
      ]
     },
     "execution_count": 45,
     "metadata": {},
     "output_type": "execute_result"
    }
   ],
   "source": [
    "renhang[['开户日期', '销户日期']]"
   ]
  },
  {
   "cell_type": "code",
   "execution_count": 43,
   "metadata": {},
   "outputs": [
    {
     "data": {
      "text/plain": [
       "'419901'"
      ]
     },
     "execution_count": 43,
     "metadata": {},
     "output_type": "execute_result"
    }
   ],
   "source": [
    "para[0].split('：')[1]"
   ]
  },
  {
   "cell_type": "code",
   "execution_count": 26,
   "metadata": {},
   "outputs": [],
   "source": [
    "hexin.sort_values(by=['开户日期','销户日期'], ascending=False, inplace=True)"
   ]
  },
  {
   "cell_type": "code",
   "execution_count": 25,
   "metadata": {},
   "outputs": [],
   "source": [
    "hexin['销户日期'].fillna(20991231,inplace=True)"
   ]
  },
  {
   "cell_type": "code",
   "execution_count": 13,
   "metadata": {},
   "outputs": [],
   "source": [
    "hexin.sort_values(by=['销户日期'], ascending=True, inplace=True)"
   ]
  },
  {
   "cell_type": "code",
   "execution_count": 27,
   "metadata": {},
   "outputs": [],
   "source": [
    "hexin.to_excel('ll.xlsx',index=False)"
   ]
  },
  {
   "cell_type": "code",
   "execution_count": 24,
   "metadata": {},
   "outputs": [],
   "source": [
    "hexin.sort_values(by=['开户日期'], ascending=False, inplace=True)\n",
    "hexin.drop_duplicates(subset=['账号'], keep='first', inplace=True)\n",
    "hexin = hexin.sort_values(by=['账号']).reset_index(drop=True)"
   ]
  },
  {
   "cell_type": "code",
   "execution_count": 25,
   "metadata": {},
   "outputs": [],
   "source": [
    "renhang.sort_values(by=['开户日期'], ascending=False, inplace=True)\n",
    "renhang.drop_duplicates(subset=['账号'], keep='first', inplace=True)\n",
    "renhang = renhang.sort_values(by=['账号']).reset_index(drop=True)"
   ]
  },
  {
   "cell_type": "code",
   "execution_count": 26,
   "metadata": {},
   "outputs": [],
   "source": [
    "yanyin.sort_values(by=['开户日期'], ascending=False, inplace=True)\n",
    "yanyin.drop_duplicates(subset=['账号'], keep='first', inplace=True)\n",
    "yanyin = yanyin.sort_values(by=['账号']).reset_index(drop=True)"
   ]
  },
  {
   "cell_type": "markdown",
   "metadata": {},
   "source": [
    "#### 账号异常值处理"
   ]
  },
  {
   "cell_type": "code",
   "execution_count": 27,
   "metadata": {},
   "outputs": [],
   "source": [
    "hexin = hexin[hexin['账号'].map(lambda x: len(str(x))) >= 6].reset_index(drop=True)\n",
    "renhang = renhang[renhang['账号'].map(lambda x: len(str(x))) >= 6].reset_index(drop=True)\n",
    "yanyin = yanyin[yanyin['账号'].map(lambda x: len(str(x))) >= 6].reset_index(drop=True)"
   ]
  },
  {
   "cell_type": "code",
   "execution_count": 28,
   "metadata": {},
   "outputs": [
    {
     "data": {
      "text/plain": [
       "(3083, 21)"
      ]
     },
     "execution_count": 28,
     "metadata": {},
     "output_type": "execute_result"
    }
   ],
   "source": [
    "hexin.shape"
   ]
  },
  {
   "cell_type": "code",
   "execution_count": 29,
   "metadata": {},
   "outputs": [
    {
     "data": {
      "text/plain": [
       "(3670, 22)"
      ]
     },
     "execution_count": 29,
     "metadata": {},
     "output_type": "execute_result"
    }
   ],
   "source": [
    "renhang.shape"
   ]
  },
  {
   "cell_type": "code",
   "execution_count": 30,
   "metadata": {},
   "outputs": [
    {
     "data": {
      "text/plain": [
       "(2289, 25)"
      ]
     },
     "execution_count": 30,
     "metadata": {},
     "output_type": "execute_result"
    }
   ],
   "source": [
    "yanyin.shape"
   ]
  },
  {
   "cell_type": "markdown",
   "metadata": {},
   "source": [
    "### 处理"
   ]
  },
  {
   "cell_type": "markdown",
   "metadata": {},
   "source": [
    "#### 核心无人行有"
   ]
  },
  {
   "cell_type": "code",
   "execution_count": 224,
   "metadata": {},
   "outputs": [],
   "source": [
    "hexin['账号'] = hexin['账号'].map(lambda x: str(x))\n",
    "res1 = pd.DataFrame(list(set(renhang['账号']) - set(hexin['账号'])), columns=['人行账号'])\n",
    "columns = ['人行账号', '账户名称', '账户性质', '开户日期', '状态']\n",
    "res1 = res1.merge(renhang, how='inner', left_on='人行账号', right_on='账号')[columns]\n",
    "res1.columns=['人行账号','人行账户名称','人行账户性质','人行开户日期','人行账户状态']\n",
    "res1['备注']=None\n",
    "res1.insert(0,column='机构名称',value='中原银行郑州商务外环路支行')\n",
    "res1.insert(0,column='机构号',value='419901')"
   ]
  },
  {
   "cell_type": "markdown",
   "metadata": {},
   "source": [
    "#### 核心有人行无"
   ]
  },
  {
   "cell_type": "code",
   "execution_count": 223,
   "metadata": {},
   "outputs": [],
   "source": [
    "res2 = pd.DataFrame(list(set(hexin['账号']) - set(renhang['账号'])), columns=['核心账号'])\n",
    "columns=['核心账号','户名','账户类型','账户属性','开户日期','账户状态']\n",
    "res2 = res2.merge(hexin, how='inner', left_on='核心账号', right_on='账号')[columns]\n",
    "res2.columns=['核心账号','核心户名','核心账户类型','核心账户属性','核心开户日期','核心账户状态']\n",
    "res2['备注']=None\n",
    "res2.insert(0,column='机构名称',value='中原银行郑州商务外环路支行')\n",
    "res2.insert(0,column='机构号',value='419901')"
   ]
  },
  {
   "cell_type": "markdown",
   "metadata": {},
   "source": [
    "#### 核心与人行户名不一致"
   ]
  },
  {
   "cell_type": "code",
   "execution_count": 225,
   "metadata": {},
   "outputs": [],
   "source": [
    "res3=hexin.merge(renhang,how='inner',on='账号')\n",
    "res3=res3[res3['户名']!=res3['账户名称']]\n",
    "res3=res3[['账号','户名','账户名称','账户类型','账户属性','账户性质','开户日期_x','开户日期_y','账户状态','状态']]\n",
    "res3.columns=['账号','核心户名','人行账户名称','核心账户类型','核心账户属性','人行账户性质','核心开户日期',\n",
    "              '人行开户日期','核心账户状态','人行状态']\n",
    "def pre3(x):\n",
    "    x=x.replace('（','')\n",
    "    x=x.replace('）','')\n",
    "    x=x.replace('(','')\n",
    "    x=x.replace(')','')\n",
    "    x=x.replace('０','0')\n",
    "    x=x.replace('１','1')\n",
    "    x=x.replace('２','2')\n",
    "    x=x.replace('３','3')\n",
    "    x=x.replace('４','4')\n",
    "    x=x.replace('５','5')\n",
    "    x=x.replace('６','6')\n",
    "    x=x.replace('７','7')\n",
    "    x=x.replace('８','8')\n",
    "    x=x.replace('９','9')\n",
    "    return x\n",
    "res3['核心户名_']=res3['核心户名'].map(lambda x: pre3(x))\n",
    "res3['人行账户名称_']=res3['人行账户名称'].map(lambda x: pre3(x))\n",
    "res3=res3[res3['核心户名_']!=res3['人行账户名称_']]\n",
    "res3['备注']=None\n",
    "res3.insert(0,column='机构名称',value='中原银行郑州商务外环路支行')\n",
    "res3.insert(0,column='机构号',value='419901')\n",
    "res3.drop(columns=['核心户名_','人行账户名称_'],inplace=True)"
   ]
  },
  {
   "cell_type": "markdown",
   "metadata": {},
   "source": [
    "#### 核心与人行账号属性不一致"
   ]
  },
  {
   "cell_type": "code",
   "execution_count": 221,
   "metadata": {},
   "outputs": [],
   "source": [
    "res4=hexin.merge(renhang,how='inner',on='账号')\n",
    "def pre4(x):\n",
    "    if '基本' in x: return '基本'\n",
    "    if '一般' in x: return '一般'\n",
    "    if '专用' in x: return '专用'\n",
    "    if '验资' in x: return '验资'\n",
    "res4['账户属性_']=res4['账户属性'].apply(lambda x: pre4(x))\n",
    "res4['账户性质_']=res4['账户性质'].apply(lambda x: pre4(x))\n",
    "res4=res4[res4['账户属性_']!=res4['账户性质_']]\n",
    "res4=res4[['账号','户名','账户名称','账户类型','账户属性','账户性质','开户日期_x','开户日期_y','账户状态','状态']]\n",
    "res4.columns=['账号','核心户名','人行账户名称','核心账户类型','核心账户属性','人行账户性质','核心开户日期',\n",
    "              '人行开户日期','核心账户状态','人行状态']\n",
    "res4['备注']=None\n",
    "res4.insert(0,column='机构名称',value='中原银行郑州商务外环路支行')\n",
    "res4.insert(0,column='机构号',value='419901')"
   ]
  },
  {
   "cell_type": "markdown",
   "metadata": {},
   "source": [
    "#### 核心与人行账号状态不一致"
   ]
  },
  {
   "cell_type": "code",
   "execution_count": 222,
   "metadata": {},
   "outputs": [],
   "source": [
    "res5=hexin.merge(renhang,how='inner',on='账号')\n",
    "def pre5(x):\n",
    "    if 'C-销户' in x: return '撤销'\n",
    "    if 'D-不动户' in x: return '正常'\n",
    "    if 'A-活动' in x: return '正常'\n",
    "    if 'N-新建' in x: return '正常'\n",
    "    if 'H-预开户' in x: return '正常'\n",
    "    if 'S-久悬户' in x: return '久悬'\n",
    "res5['账户状态_']=res5['账户状态'].apply(lambda x: pre5(x))\n",
    "res5=res5[res5['账户状态_']!=res5['状态']]\n",
    "res5=res5[['账号','户名','账户名称','账户类型','账户属性','账户性质','开户日期_x','开户日期_y','账户状态','状态']]\n",
    "res5.columns=['账号','核心户名','人行账户名称','核心账户类型','核心账户属性','人行账户性质','核心开户日期',\n",
    "              '人行开户日期','核心账户状态','人行状态']\n",
    "res5['备注']=None\n",
    "res5.insert(0,column='机构名称',value='中原银行郑州商务外环路支行')\n",
    "res5.insert(0,column='机构号',value='419901')"
   ]
  },
  {
   "cell_type": "markdown",
   "metadata": {},
   "source": [
    "#### 核心有验印无"
   ]
  },
  {
   "cell_type": "code",
   "execution_count": 202,
   "metadata": {},
   "outputs": [],
   "source": [
    "res6 = pd.DataFrame(list(set(hexin['账号']) - set(yanyin['账号'])),columns=['账号'])\n",
    "columns = ['账号','户名','账户类型','账户属性','开户日期','账户状态']\n",
    "res6 = res6.merge(hexin, how='inner', on='账号')[columns]\n",
    "res6.columns=['核心账号','核心户名','核心账户类型','核心账户属性','核心开户日期','核心账户状态']\n",
    "res6['备注']=None\n",
    "res6.insert(0,column='机构名称',value='中原银行郑州商务外环路支行')\n",
    "res6.insert(0,column='机构号',value='419901')"
   ]
  },
  {
   "cell_type": "markdown",
   "metadata": {},
   "source": [
    "#### 核心无验印有"
   ]
  },
  {
   "cell_type": "code",
   "execution_count": 206,
   "metadata": {},
   "outputs": [],
   "source": [
    "res7 = pd.DataFrame(list(set(yanyin['账号']) - set(hexin['账号'])),columns=['账号'])\n",
    "columns = ['账号','账户名称','账户属性','开户日期']\n",
    "res7 = res7.merge(yanyin, how='inner', on='账号')[columns]\n",
    "res7.columns=['验印账号','验印账户名称','验印账户属性','验印开户日期']\n",
    "res7['备注']=None\n",
    "res7.insert(0,column='机构名称',value='中原银行郑州商务外环路支行')\n",
    "res7.insert(0,column='机构号',value='419901')"
   ]
  },
  {
   "cell_type": "markdown",
   "metadata": {},
   "source": [
    "#### 核心与验印账户属性不一致"
   ]
  },
  {
   "cell_type": "code",
   "execution_count": 219,
   "metadata": {},
   "outputs": [],
   "source": [
    "res8=hexin.merge(yanyin,how='inner',on='账号')\n",
    "res8['账户属性_x_']=res8['账户属性_x'].apply(lambda x: pre4(x))\n",
    "res8['账户性质_y_']=res8['账户属性_y'].apply(lambda x: pre4(x))\n",
    "res8=res8[res8['账户属性_x_']!=res8['账户性质_y_']]\n",
    "res8=res8[['账号','户名','账户名称','账户类型','账户属性_x','账户属性_y','开户日期_x','开户日期_y','账户状态']]\n",
    "res8.columns=['账号','核心户名','验印账户名称','核心账户类型','核心账户属性','验印账户属性','核心开户日期','验印开户日期','核心状态']\n",
    "res8['备注']=None\n",
    "res8.insert(0,column='机构名称',value='中原银行郑州商务外环路支行')\n",
    "res8.insert(0,column='机构号',value='419901')"
   ]
  },
  {
   "cell_type": "markdown",
   "metadata": {},
   "source": [
    "#### 核心与验印户名不一致"
   ]
  },
  {
   "cell_type": "code",
   "execution_count": 228,
   "metadata": {},
   "outputs": [],
   "source": [
    "res9=hexin.merge(yanyin,how='inner',on='账号')\n",
    "res9=res9[res9['户名']!=res9['账户名称']]\n",
    "res9=res9[['账号','户名','账户名称','账户类型','账户属性_x','账户属性_y','开户日期_x','开户日期_y','账户状态']]\n",
    "res9.columns=['账号','核心户名','验印账户名称','核心账户类型','核心账户属性','验印账户属性','核心开户日期','验印开户日期','核心状态']\n",
    "res9['核心户名_']=res9['核心户名'].map(lambda x: pre3(x))\n",
    "res9['验印账户名称_']=res9['验印账户名称'].map(lambda x: pre3(x))\n",
    "res9=res9[res9['核心户名_']!=res9['验印账户名称_']]\n",
    "res9['备注']=None\n",
    "res9.insert(0,column='机构名称',value='中原银行郑州商务外环路支行')\n",
    "res9.insert(0,column='机构号',value='419901')\n",
    "res9.drop(columns=['核心户名_','验印账户名称_'],inplace=True)"
   ]
  },
  {
   "cell_type": "markdown",
   "metadata": {},
   "source": [
    "### 导出"
   ]
  },
  {
   "cell_type": "code",
   "execution_count": 232,
   "metadata": {},
   "outputs": [],
   "source": [
    "writer=pd.ExcelWriter('分析结果.xlsx')"
   ]
  },
  {
   "cell_type": "code",
   "execution_count": 233,
   "metadata": {},
   "outputs": [],
   "source": [
    "res1.to_excel(writer,'核心无人行有',index=False)\n",
    "res2.to_excel(writer,'核心有人行无',index=False)\n",
    "res3.to_excel(writer,'核心与人行户名不一致',index=False)\n",
    "res4.to_excel(writer,'核心与人行账号属性不一致',index=False)\n",
    "res5.to_excel(writer,'核心与人行账号状态不一致',index=False)\n",
    "res6.to_excel(writer,'核心有验印无',index=False)\n",
    "res7.to_excel(writer,'核心无验印有',index=False)\n",
    "res8.to_excel(writer,'核心与验印账户属性不一致',index=False)\n",
    "res9.to_excel(writer,'核心与验印户名不一致',index=False)"
   ]
  },
  {
   "cell_type": "code",
   "execution_count": 234,
   "metadata": {},
   "outputs": [],
   "source": [
    "writer.save()"
   ]
  },
  {
   "cell_type": "code",
   "execution_count": 236,
   "metadata": {},
   "outputs": [
    {
     "data": {
      "text/plain": [
       "机构号       object\n",
       "机构名称      object\n",
       "账号        object\n",
       "核心户名      object\n",
       "验印账户名称    object\n",
       "核心账户类型    object\n",
       "核心账户属性    object\n",
       "验印账户属性    object\n",
       "核心开户日期     int64\n",
       "验印开户日期    object\n",
       "核心状态      object\n",
       "备注        object\n",
       "dtype: object"
      ]
     },
     "execution_count": 236,
     "metadata": {},
     "output_type": "execute_result"
    }
   ],
   "source": [
    "res9.dtypes"
   ]
  }
 ],
 "metadata": {
  "kernelspec": {
   "display_name": "Python 3",
   "language": "python",
   "name": "python3"
  },
  "language_info": {
   "codemirror_mode": {
    "name": "ipython",
    "version": 3
   },
   "file_extension": ".py",
   "mimetype": "text/x-python",
   "name": "python",
   "nbconvert_exporter": "python",
   "pygments_lexer": "ipython3",
   "version": "3.6.5"
  },
  "toc": {
   "base_numbering": 1,
   "nav_menu": {},
   "number_sections": true,
   "sideBar": true,
   "skip_h1_title": false,
   "title_cell": "Table of Contents",
   "title_sidebar": "Contents",
   "toc_cell": false,
   "toc_position": {
    "height": "calc(100% - 180px)",
    "left": "10px",
    "top": "150px",
    "width": "310px"
   },
   "toc_section_display": true,
   "toc_window_display": true
  }
 },
 "nbformat": 4,
 "nbformat_minor": 2
}
